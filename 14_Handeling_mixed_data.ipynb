{
  "nbformat": 4,
  "nbformat_minor": 0,
  "metadata": {
    "colab": {
      "provenance": [],
      "authorship_tag": "ABX9TyOzXzCtmAP4YsQsEDUsfUtp",
      "include_colab_link": true
    },
    "kernelspec": {
      "name": "python3",
      "display_name": "Python 3"
    },
    "language_info": {
      "name": "python"
    }
  },
  "cells": [
    {
      "cell_type": "markdown",
      "metadata": {
        "id": "view-in-github",
        "colab_type": "text"
      },
      "source": [
        "<a href=\"https://colab.research.google.com/github/Tanmayshukla20/ML/blob/main/14_Handeling_mixed_data.ipynb\" target=\"_parent\"><img src=\"https://colab.research.google.com/assets/colab-badge.svg\" alt=\"Open In Colab\"/></a>"
      ]
    },
    {
      "cell_type": "markdown",
      "source": [
        "# **Mixed data**"
      ],
      "metadata": {
        "id": "O83aXRPR8UWd"
      }
    },
    {
      "cell_type": "code",
      "source": [
        "from google.colab import drive\n",
        "drive.mount('/content/drive')"
      ],
      "metadata": {
        "colab": {
          "base_uri": "https://localhost:8080/"
        },
        "id": "JmM196eE9SAN",
        "outputId": "f3ddbc09-51cc-4c69-8f8d-51466054ed81"
      },
      "execution_count": null,
      "outputs": [
        {
          "output_type": "stream",
          "name": "stdout",
          "text": [
            "Mounted at /content/drive\n"
          ]
        }
      ]
    },
    {
      "cell_type": "code",
      "execution_count": null,
      "metadata": {
        "id": "tJzcBBUx35lp"
      },
      "outputs": [],
      "source": [
        "import numpy as np\n",
        "import pandas as pd"
      ]
    },
    {
      "cell_type": "code",
      "source": [
        "df = pd.read_csv('titanic.csv')"
      ],
      "metadata": {
        "id": "9SWUzDaC6Tg-",
        "colab": {
          "base_uri": "https://localhost:8080/",
          "height": 299
        },
        "outputId": "c06e12df-228c-465d-a3f0-c1d556e8cadc"
      },
      "execution_count": null,
      "outputs": [
        {
          "output_type": "error",
          "ename": "FileNotFoundError",
          "evalue": "[Errno 2] No such file or directory: 'titanic.csv'",
          "traceback": [
            "\u001b[0;31m---------------------------------------------------------------------------\u001b[0m",
            "\u001b[0;31mFileNotFoundError\u001b[0m                         Traceback (most recent call last)",
            "\u001b[0;32m/tmp/ipython-input-635642474.py\u001b[0m in \u001b[0;36m<cell line: 0>\u001b[0;34m()\u001b[0m\n\u001b[0;32m----> 1\u001b[0;31m \u001b[0mdf\u001b[0m \u001b[0;34m=\u001b[0m \u001b[0mpd\u001b[0m\u001b[0;34m.\u001b[0m\u001b[0mread_csv\u001b[0m\u001b[0;34m(\u001b[0m\u001b[0;34m'titanic.csv'\u001b[0m\u001b[0;34m)\u001b[0m\u001b[0;34m\u001b[0m\u001b[0;34m\u001b[0m\u001b[0m\n\u001b[0m",
            "\u001b[0;32m/usr/local/lib/python3.12/dist-packages/pandas/io/parsers/readers.py\u001b[0m in \u001b[0;36mread_csv\u001b[0;34m(filepath_or_buffer, sep, delimiter, header, names, index_col, usecols, dtype, engine, converters, true_values, false_values, skipinitialspace, skiprows, skipfooter, nrows, na_values, keep_default_na, na_filter, verbose, skip_blank_lines, parse_dates, infer_datetime_format, keep_date_col, date_parser, date_format, dayfirst, cache_dates, iterator, chunksize, compression, thousands, decimal, lineterminator, quotechar, quoting, doublequote, escapechar, comment, encoding, encoding_errors, dialect, on_bad_lines, delim_whitespace, low_memory, memory_map, float_precision, storage_options, dtype_backend)\u001b[0m\n\u001b[1;32m   1024\u001b[0m     \u001b[0mkwds\u001b[0m\u001b[0;34m.\u001b[0m\u001b[0mupdate\u001b[0m\u001b[0;34m(\u001b[0m\u001b[0mkwds_defaults\u001b[0m\u001b[0;34m)\u001b[0m\u001b[0;34m\u001b[0m\u001b[0;34m\u001b[0m\u001b[0m\n\u001b[1;32m   1025\u001b[0m \u001b[0;34m\u001b[0m\u001b[0m\n\u001b[0;32m-> 1026\u001b[0;31m     \u001b[0;32mreturn\u001b[0m \u001b[0m_read\u001b[0m\u001b[0;34m(\u001b[0m\u001b[0mfilepath_or_buffer\u001b[0m\u001b[0;34m,\u001b[0m \u001b[0mkwds\u001b[0m\u001b[0;34m)\u001b[0m\u001b[0;34m\u001b[0m\u001b[0;34m\u001b[0m\u001b[0m\n\u001b[0m\u001b[1;32m   1027\u001b[0m \u001b[0;34m\u001b[0m\u001b[0m\n\u001b[1;32m   1028\u001b[0m \u001b[0;34m\u001b[0m\u001b[0m\n",
            "\u001b[0;32m/usr/local/lib/python3.12/dist-packages/pandas/io/parsers/readers.py\u001b[0m in \u001b[0;36m_read\u001b[0;34m(filepath_or_buffer, kwds)\u001b[0m\n\u001b[1;32m    618\u001b[0m \u001b[0;34m\u001b[0m\u001b[0m\n\u001b[1;32m    619\u001b[0m     \u001b[0;31m# Create the parser.\u001b[0m\u001b[0;34m\u001b[0m\u001b[0;34m\u001b[0m\u001b[0m\n\u001b[0;32m--> 620\u001b[0;31m     \u001b[0mparser\u001b[0m \u001b[0;34m=\u001b[0m \u001b[0mTextFileReader\u001b[0m\u001b[0;34m(\u001b[0m\u001b[0mfilepath_or_buffer\u001b[0m\u001b[0;34m,\u001b[0m \u001b[0;34m**\u001b[0m\u001b[0mkwds\u001b[0m\u001b[0;34m)\u001b[0m\u001b[0;34m\u001b[0m\u001b[0;34m\u001b[0m\u001b[0m\n\u001b[0m\u001b[1;32m    621\u001b[0m \u001b[0;34m\u001b[0m\u001b[0m\n\u001b[1;32m    622\u001b[0m     \u001b[0;32mif\u001b[0m \u001b[0mchunksize\u001b[0m \u001b[0;32mor\u001b[0m \u001b[0miterator\u001b[0m\u001b[0;34m:\u001b[0m\u001b[0;34m\u001b[0m\u001b[0;34m\u001b[0m\u001b[0m\n",
            "\u001b[0;32m/usr/local/lib/python3.12/dist-packages/pandas/io/parsers/readers.py\u001b[0m in \u001b[0;36m__init__\u001b[0;34m(self, f, engine, **kwds)\u001b[0m\n\u001b[1;32m   1618\u001b[0m \u001b[0;34m\u001b[0m\u001b[0m\n\u001b[1;32m   1619\u001b[0m         \u001b[0mself\u001b[0m\u001b[0;34m.\u001b[0m\u001b[0mhandles\u001b[0m\u001b[0;34m:\u001b[0m \u001b[0mIOHandles\u001b[0m \u001b[0;34m|\u001b[0m \u001b[0;32mNone\u001b[0m \u001b[0;34m=\u001b[0m \u001b[0;32mNone\u001b[0m\u001b[0;34m\u001b[0m\u001b[0;34m\u001b[0m\u001b[0m\n\u001b[0;32m-> 1620\u001b[0;31m         \u001b[0mself\u001b[0m\u001b[0;34m.\u001b[0m\u001b[0m_engine\u001b[0m \u001b[0;34m=\u001b[0m \u001b[0mself\u001b[0m\u001b[0;34m.\u001b[0m\u001b[0m_make_engine\u001b[0m\u001b[0;34m(\u001b[0m\u001b[0mf\u001b[0m\u001b[0;34m,\u001b[0m \u001b[0mself\u001b[0m\u001b[0;34m.\u001b[0m\u001b[0mengine\u001b[0m\u001b[0;34m)\u001b[0m\u001b[0;34m\u001b[0m\u001b[0;34m\u001b[0m\u001b[0m\n\u001b[0m\u001b[1;32m   1621\u001b[0m \u001b[0;34m\u001b[0m\u001b[0m\n\u001b[1;32m   1622\u001b[0m     \u001b[0;32mdef\u001b[0m \u001b[0mclose\u001b[0m\u001b[0;34m(\u001b[0m\u001b[0mself\u001b[0m\u001b[0;34m)\u001b[0m \u001b[0;34m->\u001b[0m \u001b[0;32mNone\u001b[0m\u001b[0;34m:\u001b[0m\u001b[0;34m\u001b[0m\u001b[0;34m\u001b[0m\u001b[0m\n",
            "\u001b[0;32m/usr/local/lib/python3.12/dist-packages/pandas/io/parsers/readers.py\u001b[0m in \u001b[0;36m_make_engine\u001b[0;34m(self, f, engine)\u001b[0m\n\u001b[1;32m   1878\u001b[0m                 \u001b[0;32mif\u001b[0m \u001b[0;34m\"b\"\u001b[0m \u001b[0;32mnot\u001b[0m \u001b[0;32min\u001b[0m \u001b[0mmode\u001b[0m\u001b[0;34m:\u001b[0m\u001b[0;34m\u001b[0m\u001b[0;34m\u001b[0m\u001b[0m\n\u001b[1;32m   1879\u001b[0m                     \u001b[0mmode\u001b[0m \u001b[0;34m+=\u001b[0m \u001b[0;34m\"b\"\u001b[0m\u001b[0;34m\u001b[0m\u001b[0;34m\u001b[0m\u001b[0m\n\u001b[0;32m-> 1880\u001b[0;31m             self.handles = get_handle(\n\u001b[0m\u001b[1;32m   1881\u001b[0m                 \u001b[0mf\u001b[0m\u001b[0;34m,\u001b[0m\u001b[0;34m\u001b[0m\u001b[0;34m\u001b[0m\u001b[0m\n\u001b[1;32m   1882\u001b[0m                 \u001b[0mmode\u001b[0m\u001b[0;34m,\u001b[0m\u001b[0;34m\u001b[0m\u001b[0;34m\u001b[0m\u001b[0m\n",
            "\u001b[0;32m/usr/local/lib/python3.12/dist-packages/pandas/io/common.py\u001b[0m in \u001b[0;36mget_handle\u001b[0;34m(path_or_buf, mode, encoding, compression, memory_map, is_text, errors, storage_options)\u001b[0m\n\u001b[1;32m    871\u001b[0m         \u001b[0;32mif\u001b[0m \u001b[0mioargs\u001b[0m\u001b[0;34m.\u001b[0m\u001b[0mencoding\u001b[0m \u001b[0;32mand\u001b[0m \u001b[0;34m\"b\"\u001b[0m \u001b[0;32mnot\u001b[0m \u001b[0;32min\u001b[0m \u001b[0mioargs\u001b[0m\u001b[0;34m.\u001b[0m\u001b[0mmode\u001b[0m\u001b[0;34m:\u001b[0m\u001b[0;34m\u001b[0m\u001b[0;34m\u001b[0m\u001b[0m\n\u001b[1;32m    872\u001b[0m             \u001b[0;31m# Encoding\u001b[0m\u001b[0;34m\u001b[0m\u001b[0;34m\u001b[0m\u001b[0m\n\u001b[0;32m--> 873\u001b[0;31m             handle = open(\n\u001b[0m\u001b[1;32m    874\u001b[0m                 \u001b[0mhandle\u001b[0m\u001b[0;34m,\u001b[0m\u001b[0;34m\u001b[0m\u001b[0;34m\u001b[0m\u001b[0m\n\u001b[1;32m    875\u001b[0m                 \u001b[0mioargs\u001b[0m\u001b[0;34m.\u001b[0m\u001b[0mmode\u001b[0m\u001b[0;34m,\u001b[0m\u001b[0;34m\u001b[0m\u001b[0;34m\u001b[0m\u001b[0m\n",
            "\u001b[0;31mFileNotFoundError\u001b[0m: [Errno 2] No such file or directory: 'titanic.csv'"
          ]
        }
      ]
    },
    {
      "cell_type": "code",
      "source": [
        "df.head()"
      ],
      "metadata": {
        "id": "mGdHGySq6WiZ"
      },
      "execution_count": null,
      "outputs": []
    },
    {
      "cell_type": "code",
      "source": [
        "df['number'].unique()"
      ],
      "metadata": {
        "id": "nH6ObsYQ6YM5"
      },
      "execution_count": null,
      "outputs": []
    },
    {
      "cell_type": "code",
      "source": [
        "fig = df['number'].value_counts().plot.bar()\n",
        "fig.set_title('Passengers travelling with')"
      ],
      "metadata": {
        "id": "-vYUg0G36al0"
      },
      "execution_count": null,
      "outputs": []
    },
    {
      "cell_type": "code",
      "source": [
        "# extract numerical part\n",
        "df['number_numerical'] = pd.to_numeric(df[\"number\"],errors='coerce',downcast='integer')"
      ],
      "metadata": {
        "id": "4U26dznj6ciA"
      },
      "execution_count": null,
      "outputs": []
    },
    {
      "cell_type": "code",
      "source": [
        "# extract categorical part\n",
        "df['number_categorical'] = np.where(df['number_numerical'].isnull(),df['number'],np.nan)\n",
        "\n",
        "df.head()"
      ],
      "metadata": {
        "id": "-bNze8kL6e9u"
      },
      "execution_count": null,
      "outputs": []
    },
    {
      "cell_type": "code",
      "source": [
        "df['Cabin'].unique()"
      ],
      "metadata": {
        "id": "0o5X4G3n6hNm"
      },
      "execution_count": null,
      "outputs": []
    },
    {
      "cell_type": "code",
      "source": [
        "df['Ticket'].unique()"
      ],
      "metadata": {
        "id": "i9LxL2xf6jJV"
      },
      "execution_count": null,
      "outputs": []
    },
    {
      "cell_type": "code",
      "source": [
        "df['cabin_num'] = df['Cabin'].str.extract('(\\d+)') # captures numerical part\n",
        "df['cabin_cat'] = df['Cabin'].str[0] # captures the first letter\n",
        "\n",
        "df.head()"
      ],
      "metadata": {
        "id": "43QsAv6N6kyU"
      },
      "execution_count": null,
      "outputs": []
    },
    {
      "cell_type": "code",
      "source": [
        "df['cabin_cat'].value_counts()"
      ],
      "metadata": {
        "id": "hzIPhguJ7Kwz"
      },
      "execution_count": null,
      "outputs": []
    },
    {
      "cell_type": "code",
      "source": [
        "df['cabin_cat'].value_counts().plot(kind='bar')"
      ],
      "metadata": {
        "id": "-h4mxQMu6nQs"
      },
      "execution_count": null,
      "outputs": []
    },
    {
      "cell_type": "code",
      "source": [
        "# extract the last bit of ticket as number\n",
        "df['ticket_num'] = df['Ticket'].apply(lambda s: s.split()[-1])\n",
        "df['ticket_num'] = pd.to_numeric(df['ticket_num'],\n",
        "                                   errors='coerce',\n",
        "                                   downcast='integer')\n",
        "\n",
        "# extract the first part of ticket as category\n",
        "df['ticket_cat'] = df['Ticket'].apply(lambda s: s.split()[0])\n",
        "df['ticket_cat'] = np.where(df['ticket_cat'].str.isdigit(), np.nan,\n",
        "                              df['ticket_cat'])\n",
        "\n",
        "df.head(20)"
      ],
      "metadata": {
        "id": "EcrF_ODv6o_i"
      },
      "execution_count": null,
      "outputs": []
    },
    {
      "cell_type": "code",
      "source": [
        "df['ticket_cat'].unique()"
      ],
      "metadata": {
        "id": "-yOR5ta56rCw"
      },
      "execution_count": null,
      "outputs": []
    },
    {
      "cell_type": "markdown",
      "source": [
        "# **Date and Time**"
      ],
      "metadata": {
        "id": "MhjaNDUM8Zmp"
      }
    },
    {
      "cell_type": "code",
      "source": [
        "import numpy as np\n",
        "import pandas as pd"
      ],
      "metadata": {
        "id": "ctPHLZVg6s4P"
      },
      "execution_count": null,
      "outputs": []
    },
    {
      "cell_type": "code",
      "source": [
        "date = pd.read_csv('orders.csv')\n",
        "time = pd.read_csv('messages.csv')"
      ],
      "metadata": {
        "id": "Oj7HVsDn9xo0"
      },
      "execution_count": null,
      "outputs": []
    },
    {
      "cell_type": "code",
      "source": [
        "date.head()"
      ],
      "metadata": {
        "id": "wVSWcG769zSh"
      },
      "execution_count": null,
      "outputs": []
    },
    {
      "cell_type": "code",
      "source": [
        "time.head()"
      ],
      "metadata": {
        "id": "TBhuE2a893Pu"
      },
      "execution_count": null,
      "outputs": []
    },
    {
      "cell_type": "code",
      "source": [
        " #when u import a dataframe in pandas it and if it contains date and time columns than by default it converts to object(string) so u need to convert it inorder to work on it."
      ],
      "metadata": {
        "id": "57w1fshd94wH"
      },
      "execution_count": null,
      "outputs": []
    },
    {
      "cell_type": "code",
      "source": [
        "date.info()"
      ],
      "metadata": {
        "id": "JPgqZyMz-5p1"
      },
      "execution_count": null,
      "outputs": []
    },
    {
      "cell_type": "code",
      "source": [
        "time.info()"
      ],
      "metadata": {
        "id": "oETZPtph--eb"
      },
      "execution_count": null,
      "outputs": []
    },
    {
      "cell_type": "markdown",
      "source": [
        "# **Working with Dates**"
      ],
      "metadata": {
        "id": "i3kzPyyL-x-_"
      }
    },
    {
      "cell_type": "code",
      "source": [
        "# Converting to datetime datatype\n",
        "date['date'] = pd.to_datetime(date['date'])"
      ],
      "metadata": {
        "id": "0cUgEZZz_K6k"
      },
      "execution_count": null,
      "outputs": []
    },
    {
      "cell_type": "code",
      "source": [
        "date.info()"
      ],
      "metadata": {
        "id": "3IM9Q2X2_OwA"
      },
      "execution_count": null,
      "outputs": []
    },
    {
      "cell_type": "markdown",
      "source": [
        "# 1. Extract year"
      ],
      "metadata": {
        "id": "c8XhObh-7Hov"
      }
    },
    {
      "cell_type": "code",
      "source": [
        "date['date_year'] = date['date'].dt.year\n",
        "\n",
        "date.sample(5)"
      ],
      "metadata": {
        "id": "vp3_Zkzu7L6r"
      },
      "execution_count": null,
      "outputs": []
    },
    {
      "cell_type": "markdown",
      "source": [
        "# 2. Extract Month"
      ],
      "metadata": {
        "id": "evaGe2Bk-iwi"
      }
    },
    {
      "cell_type": "code",
      "source": [
        "date['date_month_no'] = date['date'].dt.month\n",
        "\n",
        "date.head()"
      ],
      "metadata": {
        "id": "hd5aUyjY-lUV"
      },
      "execution_count": null,
      "outputs": []
    },
    {
      "cell_type": "code",
      "source": [
        "date['date_month_name'] = date['date'].dt.month_name()\n",
        "\n",
        "date.head()"
      ],
      "metadata": {
        "id": "-wbeXEe_-n3c"
      },
      "execution_count": null,
      "outputs": []
    },
    {
      "cell_type": "markdown",
      "source": [
        "# 3. Extract Days"
      ],
      "metadata": {
        "id": "0HK54xHo_Jok"
      }
    },
    {
      "cell_type": "code",
      "source": [
        "date['date_day'] = date['date'].dt.day\n",
        "\n",
        "date.head()"
      ],
      "metadata": {
        "id": "_qSJE90K_MLl"
      },
      "execution_count": null,
      "outputs": []
    },
    {
      "cell_type": "code",
      "source": [
        "# day of week\n",
        "date['date_dow'] = date['date'].dt.dayofweek\n",
        "\n",
        "date.head()"
      ],
      "metadata": {
        "id": "2CQCm8Qo_RID"
      },
      "execution_count": null,
      "outputs": []
    },
    {
      "cell_type": "code",
      "source": [
        "# day of week - name\n",
        "\n",
        "date['date_dow_name'] = date['date'].dt.day_name()\n",
        "\n",
        "date.drop(columns=['product_id','city_id','orders']).head()"
      ],
      "metadata": {
        "id": "dBSLJwQ7_VV_"
      },
      "execution_count": null,
      "outputs": []
    },
    {
      "cell_type": "code",
      "source": [
        "# is weekend?\n",
        "\n",
        "date['date_is_weekend'] = np.where(date['date_dow_name'].isin(['Sunday', 'Saturday']), 1,0)\n",
        "\n",
        "date.drop(columns=['product_id','city_id','orders']).head()"
      ],
      "metadata": {
        "id": "ccNHRO9a_bw3"
      },
      "execution_count": null,
      "outputs": []
    },
    {
      "cell_type": "markdown",
      "source": [
        "# 4. Extract week of the year"
      ],
      "metadata": {
        "id": "VG7dU4fG_g3j"
      }
    },
    {
      "cell_type": "code",
      "source": [
        "date['date_week'] = date['date'].dt.isocalendar().week\n",
        "\n",
        "date.drop(columns=['product_id','city_id','orders']).head()"
      ],
      "metadata": {
        "id": "kdcvX_3g_jnV"
      },
      "execution_count": null,
      "outputs": []
    },
    {
      "cell_type": "markdown",
      "source": [
        "# 5. Extract Quarter"
      ],
      "metadata": {
        "id": "Xow4G5MKAJ2v"
      }
    },
    {
      "cell_type": "code",
      "source": [
        "date['quarter'] = date['date'].dt.quarter\n",
        "\n",
        "date.drop(columns=['product_id','city_id','orders']).head()"
      ],
      "metadata": {
        "id": "DkLxp-dhAL6v"
      },
      "execution_count": null,
      "outputs": []
    },
    {
      "cell_type": "markdown",
      "source": [
        "# 6. Extract Semester"
      ],
      "metadata": {
        "id": "2cU8n7QBAQuU"
      }
    },
    {
      "cell_type": "code",
      "source": [
        "date['semester'] = np.where(date['quarter'].isin([1,2]), 1, 2)\n",
        "\n",
        "date.drop(columns=['product_id','city_id','orders']).head()"
      ],
      "metadata": {
        "id": "d28pDjUgAUC1"
      },
      "execution_count": null,
      "outputs": []
    },
    {
      "cell_type": "markdown",
      "source": [
        "# 7. Extract Time elapsed between dates"
      ],
      "metadata": {
        "id": "anM0QckNAZYx"
      }
    },
    {
      "cell_type": "code",
      "source": [
        "import datetime\n",
        "\n",
        "today = datetime.datetime.today()\n",
        "\n",
        "today"
      ],
      "metadata": {
        "id": "S3mQxL0nAdyy"
      },
      "execution_count": null,
      "outputs": []
    },
    {
      "cell_type": "code",
      "source": [
        "today - date['date']"
      ],
      "metadata": {
        "id": "cQGjf9jpAgBy"
      },
      "execution_count": null,
      "outputs": []
    },
    {
      "cell_type": "code",
      "source": [
        "(today - date['date']).dt.days"
      ],
      "metadata": {
        "id": "MdBimhFZAiY9"
      },
      "execution_count": null,
      "outputs": []
    },
    {
      "cell_type": "code",
      "source": [
        "# Months passed\n",
        "\n",
        "# Calculate the difference in years and multiply by 12, then add the difference in months.\n",
        "# This is one way to approximate the number of months passed.\n",
        "months_passed = (today.year - date['date'].dt.year) * 12 + (today.month - date['date'].dt.month)\n",
        "\n",
        "# Round to the nearest whole number\n",
        "months_passed = np.round(months_passed, 0)\n",
        "\n",
        "print(months_passed)"
      ],
      "metadata": {
        "id": "9rg6Lh99AlG3"
      },
      "execution_count": null,
      "outputs": []
    },
    {
      "cell_type": "code",
      "source": [
        "time.info()"
      ],
      "metadata": {
        "id": "N6jr9bjOAnYv"
      },
      "execution_count": null,
      "outputs": []
    },
    {
      "cell_type": "code",
      "source": [
        "# Converting to datetime datatype\n",
        "time['date'] = pd.to_datetime(time['date'])"
      ],
      "metadata": {
        "id": "nh8kma-6A294"
      },
      "execution_count": null,
      "outputs": []
    },
    {
      "cell_type": "code",
      "source": [
        "time.info()"
      ],
      "metadata": {
        "id": "cclLtmEMA5R4"
      },
      "execution_count": null,
      "outputs": []
    },
    {
      "cell_type": "code",
      "source": [
        "time['hour'] = time['date'].dt.hour\n",
        "time['min'] = time['date'].dt.minute\n",
        "time['sec'] = time['date'].dt.second\n",
        "\n",
        "time.head()"
      ],
      "metadata": {
        "id": "2-eNeviJA65F"
      },
      "execution_count": null,
      "outputs": []
    },
    {
      "cell_type": "code",
      "source": [
        "time['time'] = time['date'].dt.time\n",
        "\n",
        "time.head()"
      ],
      "metadata": {
        "id": "-vptsGh4A9Ul"
      },
      "execution_count": null,
      "outputs": []
    },
    {
      "cell_type": "markdown",
      "source": [
        "# Time difference"
      ],
      "metadata": {
        "id": "ZCGcOd3dBCaQ"
      }
    },
    {
      "cell_type": "code",
      "source": [
        "today - time['date']"
      ],
      "metadata": {
        "id": "qmyXmvUHBJaj"
      },
      "execution_count": null,
      "outputs": []
    },
    {
      "cell_type": "code",
      "source": [
        "# in seconds\n",
        "\n",
        "(today - time['date'])/np.timedelta64(1,'s')"
      ],
      "metadata": {
        "id": "8v8Vz5xtBK8D"
      },
      "execution_count": null,
      "outputs": []
    },
    {
      "cell_type": "code",
      "source": [
        "# in minutes\n",
        "\n",
        "(today - time['date'])/np.timedelta64(1,'m')"
      ],
      "metadata": {
        "id": "RusgzdmHBNS7"
      },
      "execution_count": null,
      "outputs": []
    },
    {
      "cell_type": "code",
      "source": [
        "# in hours\n",
        "\n",
        "(today - time['date'])/np.timedelta64(1,'h')"
      ],
      "metadata": {
        "id": "bVH429ORBPeR"
      },
      "execution_count": null,
      "outputs": []
    },
    {
      "cell_type": "code",
      "source": [],
      "metadata": {
        "id": "1c6C0kRmBXqg"
      },
      "execution_count": null,
      "outputs": []
    }
  ]
}